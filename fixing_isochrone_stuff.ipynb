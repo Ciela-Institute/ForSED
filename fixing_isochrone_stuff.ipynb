{
 "cells": [
  {
   "cell_type": "code",
   "execution_count": 2,
   "id": "aa25d8c7-2b18-4a61-86cb-62d87a33f42a",
   "metadata": {},
   "outputs": [],
   "source": [
    "import lighthouse as lh\n",
    "\n",
    "import numpy as np\n",
    "import matplotlib.pyplot as plt \n",
    "\n",
    "import torch "
   ]
  },
  {
   "cell_type": "code",
   "execution_count": null,
   "id": "d8e95bcf-1434-443b-8168-0aaa59ce168b",
   "metadata": {},
   "outputs": [
    {
     "name": "stdout",
     "output_type": "stream",
     "text": [
      "Compiling MIST data\n",
      "/Users/alexa/Light-House/lighthouse/data/MIST/MIST_v1.2_vvcrit0.0_basic_isos/MIST_v1.2_feh_m2.00_afe_p0.0_vvcrit0.0_basic.iso -4.0 0\n",
      "/Users/alexa/Light-House/lighthouse/data/MIST/MIST_v1.2_vvcrit0.0_basic_isos/MIST_v1.2_feh_m1.75_afe_p0.0_vvcrit0.0_basic.iso -3.5 1\n",
      "/Users/alexa/Light-House/lighthouse/data/MIST/MIST_v1.2_vvcrit0.0_basic_isos/MIST_v1.2_feh_m0.50_afe_p0.0_vvcrit0.0_basic.iso -3.0 2\n",
      "/Users/alexa/Light-House/lighthouse/data/MIST/MIST_v1.2_vvcrit0.0_basic_isos/MIST_v1.2_feh_m3.50_afe_p0.0_vvcrit0.0_basic.iso -2.5 3\n",
      "/Users/alexa/Light-House/lighthouse/data/MIST/MIST_v1.2_vvcrit0.0_basic_isos/MIST_v1.2_feh_p0.00_afe_p0.0_vvcrit0.0_basic.iso -2.0 4\n",
      "/Users/alexa/Light-House/lighthouse/data/MIST/MIST_v1.2_vvcrit0.0_basic_isos/MIST_v1.2_feh_m0.25_afe_p0.0_vvcrit0.0_basic.iso -1.75 5\n"
     ]
    }
   ],
   "source": [
    "lh.isochrone.get_isochrones.get_mist_isochrones()"
   ]
  },
  {
   "cell_type": "code",
   "execution_count": null,
   "id": "c22eec2f-2804-46b6-a06a-15ec838fb018",
   "metadata": {},
   "outputs": [],
   "source": []
  },
  {
   "cell_type": "code",
   "execution_count": null,
   "id": "02f229cd-e942-4992-a317-898f1b02fa5a",
   "metadata": {},
   "outputs": [],
   "source": []
  },
  {
   "cell_type": "code",
   "execution_count": null,
   "id": "2afd437c-a669-469a-9b20-9f71f45c0b3c",
   "metadata": {},
   "outputs": [],
   "source": [
    "import read_mist_models\n",
    "\n",
    "ref_iso_solar = read_mist_models.ISO('/Users/alexa/Light-House/lighthouse/data/MIST/MIST_v1.2_vvcrit0.0_basic_isos/MIST_v1.2_feh_p0.00_afe_p0.0_vvcrit0.0_basic.iso')\n",
    "ref_iso_mp    = read_mist_models.ISO('/Users/alexa/Light-House/lighthouse/data/MIST/MIST_v1.2_vvcrit0.0_basic_isos/MIST_v1.2_feh_m0.50_afe_p0.0_vvcrit0.0_basic.iso')\n",
    "\n",
    "I = lh.isochrone.MIST()\n"
   ]
  },
  {
   "cell_type": "code",
   "execution_count": null,
   "id": "b74f5f8d-b8ab-4432-95c0-95df818a34ff",
   "metadata": {},
   "outputs": [],
   "source": [
    "\n",
    "\n",
    "ax1 = plt.subplot(121)\n",
    "ax2 = plt.subplot(122)\n",
    "\n",
    "\n",
    "\n",
    "\n",
    "age_ind = ref_iso_solar.age_index(10.) #returns the index for the desired age\n",
    "Teff = 10**ref_iso_solar.isos[age_ind]['log_Teff']\n",
    "log_g = ref_iso_solar.isos[age_ind]['log_g']\n",
    "ax1.plot(Teff, log_g, color='k', lw=3, label='read_mist_models') \n",
    "\n",
    "print(len(log_g))\n",
    "\n",
    "mask = ((I.metallicities == 0.0))\n",
    "for metallicity in I.metallicities[mask]:\n",
    "    iso = I.get_isochrone(torch.tensor(metallicity, dtype = torch.float64), \n",
    "                          torch.tensor(10.,dtype = torch.float64))  \n",
    "    ax1.plot(iso[\"Teff\"], iso[\"log_g\"], label='Light-House', color='r', lw=3)\n",
    "\n",
    "print(len(iso[\"log_g\"]))\n",
    "\n",
    "ax1.legend()\n",
    "ax1.set_xlabel('Teff)')\n",
    "ax1.set_ylabel('log(g)')\n",
    "\n",
    "\n",
    "\n",
    "age_ind = ref_iso_mp.age_index(10.) #returns the index for the desired age\n",
    "Teff = 10**ref_iso_mp.isos[age_ind]['log_Teff']\n",
    "log_g = ref_iso_mp.isos[age_ind]['log_g']\n",
    "ax2.plot(Teff, log_g, color='k', lw=3, label='read_mist_models') \n",
    "\n",
    "print(len(log_g))\n",
    "\n",
    "\n",
    "mask = ((I.metallicities == -0.5))\n",
    "for metallicity in I.metallicities[mask]:\n",
    "    iso = I.get_isochrone(torch.tensor(metallicity, dtype = torch.float64), \n",
    "                          torch.tensor(10.,dtype = torch.float64))  \n",
    "    ax2.plot(iso[\"Teff\"], iso[\"log_g\"], label='Light-House', color='r', lw=3)\n",
    "\n",
    "ax2.legend()\n",
    "ax2.set_xlabel('Teff)')\n",
    "ax2.set_ylabel('log(g)')\n",
    "\n",
    "plt.tight_layout()"
   ]
  },
  {
   "cell_type": "code",
   "execution_count": null,
   "id": "12b754d5-89b7-4a35-8fb2-d8490aedfc49",
   "metadata": {},
   "outputs": [],
   "source": [
    "print('ages: ', [round(x,2) for x in ref_iso_solar.ages])\n",
    "\n",
    "print(ref_iso_solar.num_ages)\n",
    "print(ref_iso_mp.num_ages)"
   ]
  },
  {
   "cell_type": "code",
   "execution_count": null,
   "id": "dd1e3a59-6bb5-4baa-acfa-82f505ba1b46",
   "metadata": {},
   "outputs": [],
   "source": [
    "print('ages: ', [round(x.item(),2) for x in I.ages])\n",
    "\n",
    "print(len(I.ages))\n",
    "\n",
    "\n",
    "print('FeH: ', [round(x.item(),2) for x in I.metallicities])\n"
   ]
  },
  {
   "cell_type": "code",
   "execution_count": null,
   "id": "f1da1734-40db-4bd6-af7a-5681e1f5bc08",
   "metadata": {},
   "outputs": [],
   "source": [
    "def test_isochrone_selection(ref_feh, I):\n",
    "    metallicity_index = torch.clamp(torch.sum(I.metallicities < ref_feh) - 1, 0)\n",
    "    print(I.metallicities[metallicity_index])\n",
    "\n",
    "    metallicity_index_try2 = (I.metallicities  == ref_feh).nonzero(as_tuple=False).squeeze()\n",
    "    print(I.metallicities[metallicity_index_try2])\n",
    "\n",
    "testing = test_isochrone_selection(torch.tensor(0.0), I)\n",
    "testing = test_isochrone_selection(torch.tensor(-0.5), I)\n"
   ]
  },
  {
   "cell_type": "code",
   "execution_count": null,
   "id": "efef5f38-a1be-4980-8dd6-4be9a5b7b3ef",
   "metadata": {},
   "outputs": [],
   "source": [
    "def test_isochrone_selection(ref_age, I):\n",
    "    age_index = torch.clamp(torch.sum(I.ages < ref_age) - 1, 0)\n",
    "    print(I.ages[age_index])\n",
    "\n",
    "    age_index_try2 = (I.ages  == ref_age).nonzero(as_tuple=False).squeeze()\n",
    "    print(I.ages[age_index_try2])\n",
    "\n",
    "testing = test_isochrone_selection(torch.tensor(10.0), I)\n",
    "testing = test_isochrone_selection(torch.tensor(5.0), I)\n",
    "\n",
    "testing = test_isochrone_selection(torch.tensor(10.1), I)\n",
    "testing = test_isochrone_selection(torch.tensor(10.2), I)\n",
    "testing = test_isochrone_selection(torch.tensor(10.3), I)\n",
    "\n"
   ]
  },
  {
   "cell_type": "code",
   "execution_count": null,
   "id": "e8a3b609-dafd-4f3f-b861-d2b4515e7de1",
   "metadata": {},
   "outputs": [],
   "source": [
    "def all_together_now(ref_feh, ref_age, I):\n",
    "    metallicity_index = (I.metallicities  == ref_feh).nonzero(as_tuple=False).squeeze()\n",
    "    print(I.metallicities[metallicity_index])\n",
    "    \n",
    "    age_index = (I.ages  == ref_age).nonzero(as_tuple=False).squeeze()\n",
    "    print(I.ages[age_index])\n",
    "\n",
    "    isochrone = I.isochrone_grid[metallicity_index, age_index].clone()\n",
    "    isochrone = isochrone[:,isochrone[0] > -999]\n",
    "\n",
    "    return dict((p, isochrone[i]) for i, p in enumerate(I.param_order))\n",
    "\n",
    "testing = all_together_now(torch.tensor(0.0), torch.tensor(10.0), I)\n"
   ]
  },
  {
   "cell_type": "code",
   "execution_count": null,
   "id": "60ed8ca1-a9ab-4f51-88a6-ee49997c862c",
   "metadata": {},
   "outputs": [],
   "source": [
    "\n",
    "ax1 = plt.subplot(121)\n",
    "ax2 = plt.subplot(122)\n",
    "\n",
    "\n",
    "age_ind = ref_iso_solar.age_index(10.) #returns the index for the desired age\n",
    "Teff = 10**ref_iso_solar.isos[age_ind]['log_Teff']\n",
    "log_g = ref_iso_solar.isos[age_ind]['log_g']\n",
    "ax1.plot(Teff, log_g, color='k', lw=3, label='read_mist_models') \n",
    "\n",
    "print(len(log_g))\n",
    "\n",
    "mask = ((I.metallicities == 0.0))\n",
    "for metallicity in I.metallicities[mask]:\n",
    "    iso = I.get_isochrone(torch.tensor(metallicity, dtype = torch.float64), \n",
    "                          torch.tensor(10.,dtype = torch.float64))  \n",
    "    ax1.plot(iso[\"Teff\"], iso[\"log_g\"], label='Light-House', color='r', lw=3)\n",
    "\n",
    "print(len(iso[\"log_g\"]))\n",
    "\n",
    "\n",
    "testing = all_together_now(torch.tensor(0.0), torch.tensor(10.0), I)\n",
    "ax1.plot(testing[\"Teff\"], testing[\"log_g\"], label='try again', color='b', lw=1)\n",
    "\n",
    "print(len(testing[\"log_g\"]))\n",
    "\n",
    "ax1.legend()\n",
    "ax1.set_xlabel('Teff)')\n",
    "ax1.set_ylabel('log(g)')\n",
    "\n",
    "\n",
    "\n",
    "# age_ind = ref_iso_mp.age_index(10.) #returns the index for the desired age\n",
    "# Teff = 10**ref_iso_mp.isos[age_ind]['log_Teff']\n",
    "# log_g = ref_iso_mp.isos[age_ind]['log_g']\n",
    "# ax2.plot(Teff, log_g, color='k', lw=3, label='read_mist_models') \n",
    "\n",
    "# print(len(log_g))\n",
    "\n",
    "\n",
    "# mask = ((I.metallicities == -0.5))\n",
    "# for metallicity in I.metallicities[mask]:\n",
    "#     iso = I.get_isochrone(torch.tensor(metallicity, dtype = torch.float64), \n",
    "#                           torch.tensor(10.,dtype = torch.float64))  \n",
    "#     ax2.plot(iso[\"Teff\"], iso[\"log_g\"], label='Light-House', color='r', lw=3)\n",
    "\n",
    "\n",
    "# testing = all_together_now(torch.tensor(-0.5), torch.tensor(10.0), I)\n",
    "# ax2.plot(testing[\"Teff\"], testing[\"log_g\"], label='try again', color='b', lw=1)\n",
    "\n",
    "# print(len(testing[\"log_g\"]))\n",
    "\n",
    "ax2.legend()\n",
    "ax2.set_xlabel('Teff)')\n",
    "ax2.set_ylabel('log(g)')\n",
    "\n",
    "plt.tight_layout()"
   ]
  },
  {
   "cell_type": "code",
   "execution_count": null,
   "id": "914b93e3-1f32-4a49-9485-30bdad7f20d3",
   "metadata": {},
   "outputs": [],
   "source": []
  }
 ],
 "metadata": {
  "kernelspec": {
   "display_name": "Python 3 (ipykernel)",
   "language": "python",
   "name": "python3"
  },
  "language_info": {
   "codemirror_mode": {
    "name": "ipython",
    "version": 3
   },
   "file_extension": ".py",
   "mimetype": "text/x-python",
   "name": "python",
   "nbconvert_exporter": "python",
   "pygments_lexer": "ipython3",
   "version": "3.9.16"
  }
 },
 "nbformat": 4,
 "nbformat_minor": 5
}
