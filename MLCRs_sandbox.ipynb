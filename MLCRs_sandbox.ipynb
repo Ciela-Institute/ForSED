{
 "cells": [
  {
   "cell_type": "code",
   "execution_count": 1,
   "id": "513a70ed-6dbb-40b8-8a3a-2f9ec16f561f",
   "metadata": {},
   "outputs": [
    {
     "name": "stdout",
     "output_type": "stream",
     "text": [
      "Getting MIST\n",
      "Writing MIST\n",
      "Extracting MIST\n",
      "Deleting tar file\n",
      "Compiling MIST data\n",
      "Writing MIST to hdf5 database\n"
     ]
    }
   ],
   "source": [
    "import lighthouse as lh\n",
    "\n",
    "lh.isochrone.get_isochrones.get_mist_isochrones()\n",
    "lh.stellar_atmosphere_spectrum.get_stellar_templates.get_polynomial_coefficients_villaume2017a()"
   ]
  },
  {
   "cell_type": "code",
   "execution_count": 2,
   "id": "0b78f34e-fb8d-48c9-8dc8-444d9c7560a7",
   "metadata": {},
   "outputs": [],
   "source": [
    "import matplotlib.pyplot as plt \n",
    "\n",
    "import torch \n",
    "\n",
    "import sedpy\n"
   ]
  },
  {
   "cell_type": "code",
   "execution_count": 4,
   "id": "234aff2c-18cc-46d2-a058-3e627ff4fdb6",
   "metadata": {},
   "outputs": [],
   "source": [
    "S = lh.SSP.Basic_SSP(\n",
    "    lh.isochrone.MIST(),\n",
    "    lh.initial_mass_function.Kroupa(),\n",
    "    lh.stellar_atmosphere_spectrum.PolynomialEvaluator(),\n",
    "    )"
   ]
  },
  {
   "cell_type": "code",
   "execution_count": 10,
   "id": "97e3bc72-7c42-434e-948a-dad7ea1953dd",
   "metadata": {},
   "outputs": [
    {
     "name": "stdout",
     "output_type": "stream",
     "text": [
      "tensor([ 5.0000,  5.0500,  5.1000,  5.1500,  5.2000,  5.2500,  5.3000,  5.3500,\n",
      "         5.4000,  5.4500,  5.5000,  5.5500,  5.6000,  5.6500,  5.7000,  5.7500,\n",
      "         5.8000,  5.8500,  5.9000,  5.9500,  6.0000,  6.0500,  6.1000,  6.1500,\n",
      "         6.2000,  6.2500,  6.3000,  6.3500,  6.4000,  6.4500,  6.5000,  6.5500,\n",
      "         6.6000,  6.6500,  6.7000,  6.7500,  6.8000,  6.8500,  6.9000,  6.9500,\n",
      "         7.0000,  7.0500,  7.1000,  7.1500,  7.2000,  7.2500,  7.3000,  7.3500,\n",
      "         7.4000,  7.4500,  7.5000,  7.5500,  7.6000,  7.6500,  7.7000,  7.7500,\n",
      "         7.8000,  7.8500,  7.9000,  7.9500,  8.0000,  8.0500,  8.1000,  8.1500,\n",
      "         8.2000,  8.2500,  8.3000,  8.3500,  8.4000,  8.4500,  8.5000,  8.5500,\n",
      "         8.6000,  8.6500,  8.7000,  8.7500,  8.8000,  8.8500,  8.9000,  8.9500,\n",
      "         9.0000,  9.0500,  9.1000,  9.1500,  9.2000,  9.2500,  9.3000,  9.3500,\n",
      "         9.4000,  9.4500,  9.5000,  9.5500,  9.6000,  9.6500,  9.7000,  9.7500,\n",
      "         9.8000,  9.8500,  9.9000,  9.9500, 10.0000, 10.0500, 10.1000, 10.1500,\n",
      "        10.2000, 10.2500, 10.3000], dtype=torch.float64)\n",
      "tensor([-4.0000, -3.5000, -3.0000, -2.5000, -2.0000, -1.7500, -1.5000, -1.2500,\n",
      "        -1.0000, -0.7500, -0.5000, -0.2500,  0.0000,  0.2500,  0.5000],\n",
      "       dtype=torch.float64)\n"
     ]
    }
   ],
   "source": [
    "# need to put some safeguards in wrt commensurate coverage between isochrones and stellar libraries \n",
    "\n",
    "print(S.isochrone.ages)\n",
    "print(S.isochrone.metallicities)"
   ]
  },
  {
   "cell_type": "code",
   "execution_count": null,
   "id": "3cf97d4f-ab2b-41d2-95c5-268b7f2b4354",
   "metadata": {},
   "outputs": [],
   "source": [
    "ssp = S.forward(torch.tensor(0., dtype = torch.float64), torch.tensor(10., dtype  = torch.float64), torch.tensor([1.3, 2.3, 2.7]))\n",
    "\n",
    "plt.plot(S.sas.wavelength, ssp)\n",
    "plt.show()"
   ]
  }
 ],
 "metadata": {
  "kernelspec": {
   "display_name": "Python 3 (ipykernel)",
   "language": "python",
   "name": "python3"
  },
  "language_info": {
   "codemirror_mode": {
    "name": "ipython",
    "version": 3
   },
   "file_extension": ".py",
   "mimetype": "text/x-python",
   "name": "python",
   "nbconvert_exporter": "python",
   "pygments_lexer": "ipython3",
   "version": "3.9.16"
  }
 },
 "nbformat": 4,
 "nbformat_minor": 5
}
